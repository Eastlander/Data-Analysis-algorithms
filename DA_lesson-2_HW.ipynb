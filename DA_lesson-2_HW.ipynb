{
 "cells": [
  {
   "cell_type": "markdown",
   "metadata": {},
   "source": [
    "#### 1. Постройте график зависимости весов всех признаков от lambda в самописной L2-регуляризации (на данных про ЕГЭ). Сделайте вывод."
   ]
  },
  {
   "cell_type": "code",
   "execution_count": 1,
   "metadata": {},
   "outputs": [],
   "source": [
    "import numpy as np\n",
    "import matplotlib.pyplot as plt\n",
    "\n",
    "#%matplotlib inline\n",
    "import warnings\n",
    "warnings.filterwarnings('ignore')\n",
    "import time"
   ]
  },
  {
   "cell_type": "code",
   "execution_count": 2,
   "metadata": {},
   "outputs": [],
   "source": [
    "X = np.array([[   1,    1,  500,    1],\n",
    "              [   1,    1,  700,    1],\n",
    "              [   1,    2,  750,    2],\n",
    "              [   1,    5,  600,    1],\n",
    "              [   1,    3, 1450,    2],\n",
    "              [   1,    0,  800,    1],\n",
    "              [   1,    5, 1500,    3],\n",
    "              [   1,   10, 2000,    3],\n",
    "              [   1,    1,  450,    1],\n",
    "              [   1,    2, 1000,    2]])"
   ]
  },
  {
   "cell_type": "code",
   "execution_count": 3,
   "metadata": {},
   "outputs": [],
   "source": [
    "y = [45, 55, 50, 55, 60, 35, 75, 80, 50, 60]"
   ]
  },
  {
   "cell_type": "code",
   "execution_count": 4,
   "metadata": {},
   "outputs": [],
   "source": [
    "def gradient_descent_reg_l2(X, y, iterations, eta=1e-4, reg=1e-8):\n",
    "    W = np.random.randn(X.shape[1])\n",
    "    n = X.shape[0]\n",
    "    \n",
    "    for i in range(0, iterations):\n",
    "        y_pred = np.dot(X, W)\n",
    "        err = calc_mse(y, y_pred)\n",
    "        \n",
    "        dQ = 2/n * X.T @ (y_pred - y) # градиент функции ошибки\n",
    "        dReg = reg * W # градиент регуляризации\n",
    "        \n",
    "        W -= eta * (dQ + dReg)\n",
    "    return W"
   ]
  },
  {
   "cell_type": "code",
   "execution_count": 5,
   "metadata": {},
   "outputs": [],
   "source": [
    "def standard_scale(X):\n",
    "    mean = X.mean()\n",
    "    std = X.std()\n",
    "    return (X - mean) / std\n",
    "\n",
    "X_st = X.copy().astype(np.float64)\n",
    "X_st[:, 1] = standard_scale(X_st[:, 1])\n",
    "X_st[:, 2] = standard_scale(X_st[:, 2])\n",
    "X_st[:, 3] = standard_scale(X_st[:, 3])"
   ]
  },
  {
   "cell_type": "code",
   "execution_count": 6,
   "metadata": {},
   "outputs": [
    {
     "data": {
      "text/plain": [
       "array([[ 1.        , -0.70710678, -0.97958969, -0.89625816],\n",
       "       [ 1.        , -0.70710678, -0.56713087, -0.89625816],\n",
       "       [ 1.        , -0.35355339, -0.46401617,  0.38411064],\n",
       "       [ 1.        ,  0.70710678, -0.77336028, -0.89625816],\n",
       "       [ 1.        ,  0.        ,  0.97958969,  0.38411064],\n",
       "       [ 1.        , -1.06066017, -0.36090146, -0.89625816],\n",
       "       [ 1.        ,  0.70710678,  1.08270439,  1.66447944],\n",
       "       [ 1.        ,  2.47487373,  2.11385144,  1.66447944],\n",
       "       [ 1.        , -0.70710678, -1.08270439, -0.89625816],\n",
       "       [ 1.        , -0.35355339,  0.05155735,  0.38411064]])"
      ]
     },
     "execution_count": 6,
     "metadata": {},
     "output_type": "execute_result"
    }
   ],
   "source": [
    "X_st"
   ]
  },
  {
   "cell_type": "code",
   "execution_count": 7,
   "metadata": {},
   "outputs": [],
   "source": [
    "def calc_mse(y, y_pred):\n",
    "    err = np.mean((y - y_pred) ** 2)\n",
    "    return err"
   ]
  },
  {
   "cell_type": "code",
   "execution_count": 8,
   "metadata": {},
   "outputs": [],
   "source": [
    "regs = np.arange(0, 101)\n",
    "\n",
    "W_array = [gradient_descent_reg_l2(X_st, y, iterations=1000, reg=reg) for reg in regs]"
   ]
  },
  {
   "cell_type": "code",
   "execution_count": 9,
   "metadata": {},
   "outputs": [
    {
     "data": {
      "image/png": "[encoded data removed]",
      "text/plain": [
       "<Figure size 432x288 with 1 Axes>"
      ]
     },
     "metadata": {
      "needs_background": "light"
     },
     "output_type": "display_data"
    }
   ],
   "source": [
    "W_array = np.array(W_array)\n",
    "\n",
    "for i in range(W_array.shape[1]):\n",
    "    plt.plot(W_array[:, i], regs)\n",
    "plt.xlabel('lambda')\n",
    "plt.ylabel('Вес признака');"
   ]
  },
  {
   "cell_type": "markdown",
   "metadata": {},
   "source": [
    "*Вывод: при увеличении <tex>$\\lambda$</tex> веса становятся менее значимые и стремятся к нулю*"
   ]
  },
  {
   "cell_type": "markdown",
   "metadata": {},
   "source": [
    "#### 2. Напишите функцию наподобие gradient_descent_reg_l2, но для применения L1-регуляризации."
   ]
  },
  {
   "cell_type": "code",
   "execution_count": 10,
   "metadata": {},
   "outputs": [],
   "source": [
    "# функция производной модуля для L1-регуляризации\n",
    "\n",
    "def module_der(x):\n",
    "    return x / abs(x)"
   ]
  },
  {
   "cell_type": "code",
   "execution_count": 11,
   "metadata": {},
   "outputs": [],
   "source": [
    "def gradient_descent_reg_l1(X, y, iterations, eta=1e-4, reg=1e-8):\n",
    "    W = np.random.randn(X.shape[1])\n",
    "    n = X.shape[0]\n",
    "    \n",
    "    for i in range(0, iterations):\n",
    "        y_pred = np.dot(X, W)\n",
    "        \n",
    "        dQ = 2/n * X.T @ (y_pred - y) \n",
    "        dReg = reg * module_der(W) # градиент регуляризации\n",
    "        \n",
    "        W -= eta * (dQ + dReg)\n",
    "    return W"
   ]
  },
  {
   "cell_type": "markdown",
   "metadata": {},
   "source": [
    "#### 3*. Можно ли к одному и тому же признаку применить сразу и нормализацию, и стандартизацию?"
   ]
  },
  {
   "cell_type": "markdown",
   "metadata": {},
   "source": [
    "Теоретически применить можно, но это не будеть иметь смысла, т.к. принимаются значения последнего масштабирования и, на практике, некоторые модели не смогут с нормализацией/стандартизацией."
   ]
  },
  {
   "cell_type": "markdown",
   "metadata": {},
   "source": [
    "#### 4*. Сгенерируйте датасет при помощи sklearn.datasets.make_regression и обучите линейную модель при помощи градиентного и стохастического градиентного спуска. Нанесите среднеквадратичную ошибку для обоих методов на один график, сделайте выводы о разнице скорости сходимости каждого из методов."
   ]
  },
  {
   "cell_type": "code",
   "execution_count": 12,
   "metadata": {},
   "outputs": [],
   "source": [
    "from sklearn.datasets import make_regression"
   ]
  },
  {
   "cell_type": "code",
   "execution_count": 13,
   "metadata": {},
   "outputs": [],
   "source": [
    "# функция, определяющая среднеквадратичную ошибку\n",
    "def mserror(X, w, y_pred):\n",
    "    y = X.dot(w)\n",
    "    return (sum((y - y_pred)**2)) / len(y)"
   ]
  },
  {
   "cell_type": "code",
   "execution_count": 14,
   "metadata": {},
   "outputs": [],
   "source": [
    "# сгенерируем датасет\n",
    "\n",
    "n_features = 2\n",
    "n_objects = 100000\n",
    "\n",
    "X, Y, coef = make_regression(n_samples=n_objects, n_features=n_features, n_informative=2, n_targets=1, \n",
    "                                      noise=5, coef=True, random_state=42)"
   ]
  },
  {
   "cell_type": "markdown",
   "metadata": {},
   "source": [
    "#### Классический градиентный спуск"
   ]
  },
  {
   "cell_type": "code",
   "execution_count": 15,
   "metadata": {},
   "outputs": [],
   "source": [
    "# шаг градиентного спуска\n",
    "eta = 0.05\n",
    "\n",
    "# максимальное число итераций\n",
    "max_iter = 1e3\n",
    "\n",
    "# критерий сходимости (разница весов, при которой алгоритм останавливается)\n",
    "min_weight_dist = 1e-6\n",
    "\n",
    "# зададим начальную разницу весов бесконечно большим числом\n",
    "weight_dist = np.inf\n",
    "\n",
    "# возьмем нулевые начальные веса\n",
    "w = np.zeros(n_features)\n",
    "\n",
    "def gd(w, w_list, errors, weight_dist, iter_num, max_iter):\n",
    "    while weight_dist > min_weight_dist and iter_num < max_iter:\n",
    "        new_w = w - 2 * eta * np.dot(X.T, (np.dot(X, w) - Y)) / Y.shape[0]\n",
    "        weight_dist = np.linalg.norm(new_w - w, ord=2)\n",
    "\n",
    "        w_list.append(new_w.copy())\n",
    "        errors.append(mserror(X, new_w, Y))\n",
    "\n",
    "        iter_num += 1\n",
    "        w = new_w\n",
    "\n",
    "    iters_gd = iter_num\n",
    "    errors_gd = errors\n",
    "    w_list_gd = np.array(w_list)\n",
    "\n",
    "    return (iters_gd, errors_gd, w_list_gd)"
   ]
  },
  {
   "cell_type": "code",
   "execution_count": 16,
   "metadata": {},
   "outputs": [],
   "source": [
    "# список векторов весов после каждой итерации\n",
    "w_list = [w.copy()]\n",
    "\n",
    "# список значений ошибок после каждой итерации\n",
    "errors = []\n",
    "\n",
    "# счетчик итераций\n",
    "iter_num = 0\n",
    "\n",
    "iters_gd, errors_gd, w_list_gd = gd(w, w_list, errors, weight_dist, iter_num, max_iter)"
   ]
  },
  {
   "cell_type": "markdown",
   "metadata": {},
   "source": [
    "#### Стохастический градиентный спуск"
   ]
  },
  {
   "cell_type": "code",
   "execution_count": 17,
   "metadata": {},
   "outputs": [],
   "source": [
    "def sgd(w, w_list, errors, weight_dist, iter_num, max_iter):\n",
    "    while weight_dist > min_weight_dist and iter_num < max_iter:\n",
    "\n",
    "        # генерируем случайный индекс объекта выборки\n",
    "        train_ind = np.random.randint(X.shape[0], size=1)\n",
    "\n",
    "        y_pred = np.dot(X[train_ind], w)\n",
    "        new_w = w - eta * 2 / Y[train_ind].shape[0] * np.dot(X[train_ind].T, y_pred - Y[train_ind])\n",
    "\n",
    "        weight_dist = np.linalg.norm(new_w - w, ord=2)\n",
    "\n",
    "        error = mserror(X, new_w, Y)\n",
    "\n",
    "        w_list.append(new_w.copy())\n",
    "        errors.append(error)\n",
    "\n",
    "        iter_num += 1\n",
    "        w = new_w\n",
    "\n",
    "    iters_sgd = iter_num\n",
    "    errors_sgd = errors\n",
    "    w_list_sgd = np.array(w_list)\n",
    "    \n",
    "    return (iters_sgd, errors_sgd, w_list_sgd)"
   ]
  },
  {
   "cell_type": "code",
   "execution_count": 18,
   "metadata": {},
   "outputs": [],
   "source": [
    "# список векторов весов после каждой итерации\n",
    "w_list = [w.copy()]\n",
    "\n",
    "# список значений ошибок после каждой итерации\n",
    "errors = []\n",
    "\n",
    "# счетчик итераций\n",
    "iter_num = 0\n",
    "\n",
    "iters_sgd, errors_sgd, w_list_sgd = sgd(w, w_list, errors, weight_dist, iter_num, max_iter)"
   ]
  },
  {
   "cell_type": "code",
   "execution_count": 19,
   "metadata": {},
   "outputs": [
    {
     "data": {
      "text/plain": [
       "(154, 1000)"
      ]
     },
     "execution_count": 19,
     "metadata": {},
     "output_type": "execute_result"
    }
   ],
   "source": [
    "iters_gd, iters_sgd"
   ]
  },
  {
   "cell_type": "code",
   "execution_count": 20,
   "metadata": {},
   "outputs": [
    {
     "data": {
      "image/png": "[encoded data removed]",
      "text/plain": [
       "<Figure size 1152x720 with 1 Axes>"
      ]
     },
     "metadata": {
      "needs_background": "light"
     },
     "output_type": "display_data"
    }
   ],
   "source": [
    "plt.figure(figsize=(16, 10))\n",
    "plt.title('MSE')\n",
    "plt.xlabel('Iteration number')\n",
    "plt.ylabel('MSE')\n",
    "\n",
    "x = range(iters_gd)\n",
    "delta = 25\n",
    "plt.plot(x[delta:], errors_gd[delta:], label='GD-method')\n",
    "plt.plot(x[delta:], errors_sgd[delta:iters_gd], label='GD-method', c='y')\n",
    "plt.legend()\n",
    "\n",
    "plt.show()"
   ]
  },
  {
   "cell_type": "code",
   "execution_count": 21,
   "metadata": {},
   "outputs": [
    {
     "name": "stdout",
     "output_type": "stream",
     "text": [
      "Градиентный спуск выполняется за 3.4082539081573486 секунды\n"
     ]
    }
   ],
   "source": [
    "start_time = time.time()\n",
    "gd(w, w_list, errors, weight_dist, iter_num, max_iter)\n",
    "print(\"Градиентный спуск выполняется за %s секунды\" % (time.time() - start_time))"
   ]
  },
  {
   "cell_type": "code",
   "execution_count": 22,
   "metadata": {},
   "outputs": [
    {
     "name": "stdout",
     "output_type": "stream",
     "text": [
      "Стохастический градиентный спуск выполняется за 21.555012464523315 секунды\n"
     ]
    }
   ],
   "source": [
    "start_time = time.time()\n",
    "sgd(w, w_list, errors, weight_dist, iter_num, max_iter)\n",
    "print(\"Стохастический градиентный спуск выполняется за %s секунды\" % (time.time() - start_time))"
   ]
  },
  {
   "cell_type": "markdown",
   "metadata": {},
   "source": [
    "*Вывод: по графику, как и по значениям на выходе видно, что стохастическому спуску на этих данных понадобилось больше времени и большее количество итераций для достижения лучшего результата.*"
   ]
  },
  {
   "cell_type": "code",
   "execution_count": null,
   "metadata": {},
   "outputs": [],
   "source": []
  }
 ],
 "metadata": {
  "colab": {
   "collapsed_sections": [
    "Ws1-N-_Qiqus",
    "Lq5zA2Itiqu3"
   ],
   "name": "Lesson_2.ipynb",
   "provenance": []
  },
  "kernelspec": {
   "display_name": "Python 3",
   "language": "python",
   "name": "python3"
  },
  "language_info": {
   "codemirror_mode": {
    "name": "ipython",
    "version": 3
   },
   "file_extension": ".py",
   "mimetype": "text/x-python",
   "name": "python",
   "nbconvert_exporter": "python",
   "pygments_lexer": "ipython3",
   "version": "3.8.3"
  }
 },
 "nbformat": 4,
 "nbformat_minor": 1
}
