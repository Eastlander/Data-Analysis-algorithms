{
 "cells": [
  {
   "cell_type": "markdown",
   "metadata": {
    "id": "_k_P0YzGXVqV"
   },
   "source": [
    "### <caenter> Подготовительная часть для выполнения практического задания"
   ]
  },
  {
   "cell_type": "code",
   "execution_count": 1,
   "metadata": {
    "id": "gJ4jqk_9XVqX",
    "pycharm": {
     "name": "#%%\n"
    }
   },
   "outputs": [],
   "source": [
    "%matplotlib inline\n",
    "import numpy as np\n",
    "import matplotlib.pyplot as plt"
   ]
  },
  {
   "cell_type": "code",
   "execution_count": 2,
   "metadata": {
    "id": "RLIoV5ytXVqX",
    "pycharm": {
     "name": "#%%\n"
    }
   },
   "outputs": [],
   "source": [
    "y = np.array([45, 55, 50, 59, 65, 35, 75, 80, 50, 60])\n",
    "\n",
    "X = np.array(\n",
    "    [\n",
    "        [1, 1, 1, 1, 1, 1, 1, 1, 1, 1],\n",
    "        [1, 1, 2, 1, 3, 0, 5, 10, 1, 2]\n",
    "    ]\n",
    ")"
   ]
  },
  {
   "cell_type": "code",
   "execution_count": 3,
   "metadata": {
    "id": "3PUNlX0TXVqY",
    "outputId": "4d97e6d5-a11a-4eb5-9522-13810b73b293",
    "pycharm": {
     "name": "#%%\n"
    }
   },
   "outputs": [
    {
     "data": {
      "image/png": "[encoded data removed]",
      "text/plain": [
       "<Figure size 432x288 with 1 Axes>"
      ]
     },
     "metadata": {
      "needs_background": "light"
     },
     "output_type": "display_data"
    }
   ],
   "source": [
    "plt.scatter(X[1], y)\n",
    "plt.plot(X[1], 35 * X[0] + X[1] * 5, label='model1')\n",
    "plt.plot(X[1], 40 * X[0] + X[1] * 7.5, label='model2')\n",
    "plt.legend(loc='best')\n",
    "plt.show()"
   ]
  },
  {
   "cell_type": "code",
   "execution_count": 4,
   "metadata": {
    "id": "4KF2LfSkXVqZ",
    "pycharm": {
     "name": "#%%\n"
    }
   },
   "outputs": [],
   "source": [
    "y_pred1 = np.ones(10) * 35 + X[1] * 5\n",
    "y_pred2 = np.ones(10) * 40 + X[1] * 7.5"
   ]
  },
  {
   "cell_type": "code",
   "execution_count": 5,
   "metadata": {
    "id": "QM_uzbMdXVqZ",
    "outputId": "ead00a89-26b0-4c40-970e-275f347947ba",
    "pycharm": {
     "name": "#%%\n"
    }
   },
   "outputs": [
    {
     "data": {
      "text/plain": [
       "array([40., 40., 45., 40., 50., 35., 60., 85., 40., 45.])"
      ]
     },
     "execution_count": 5,
     "metadata": {},
     "output_type": "execute_result"
    }
   ],
   "source": [
    "y_pred1"
   ]
  },
  {
   "cell_type": "code",
   "execution_count": 6,
   "metadata": {
    "id": "g2m51I-_XVqZ",
    "outputId": "69c9f750-fa1b-412d-dc51-64123af168e6",
    "pycharm": {
     "name": "#%%\n"
    }
   },
   "outputs": [
    {
     "data": {
      "text/plain": [
       "array([ 47.5,  47.5,  55. ,  47.5,  62.5,  40. ,  77.5, 115. ,  47.5,\n",
       "        55. ])"
      ]
     },
     "execution_count": 6,
     "metadata": {},
     "output_type": "execute_result"
    }
   ],
   "source": [
    "y_pred2"
   ]
  },
  {
   "cell_type": "markdown",
   "metadata": {
    "id": "MzOlUrymXVqa"
   },
   "source": [
    "$\\displaystyle MAE = \\frac{1}{l} \\sum_{i=1}^{l}|y_{i}-\\hat{y_i}|$  \n",
    "$\\displaystyle MSE = \\frac{1}{l} \\sum_{i=1}^{l}(y_{i}-\\hat{y_i})^2$"
   ]
  },
  {
   "cell_type": "code",
   "execution_count": 7,
   "metadata": {
    "id": "IxuXTaBRXVqa",
    "pycharm": {
     "name": "#%%\n"
    }
   },
   "outputs": [],
   "source": [
    "mae_1 = np.mean(np.abs(y_pred1 - y))\n",
    "mae_2 = np.mean(np.abs(y_pred2 - y))"
   ]
  },
  {
   "cell_type": "code",
   "execution_count": 8,
   "metadata": {
    "id": "NKeSQkScXVqa",
    "outputId": "2d11f8a8-26f1-4d52-e476-72aebf30dbdf",
    "pycharm": {
     "name": "#%%\n"
    }
   },
   "outputs": [
    {
     "data": {
      "text/plain": [
       "(10.4, 7.9)"
      ]
     },
     "execution_count": 8,
     "metadata": {},
     "output_type": "execute_result"
    }
   ],
   "source": [
    "mae_1, mae_2"
   ]
  },
  {
   "cell_type": "code",
   "execution_count": 9,
   "metadata": {
    "id": "e9u2EphFXVqb",
    "pycharm": {
     "name": "#%%\n"
    }
   },
   "outputs": [],
   "source": [
    "mse_1 = np.mean((y_pred1 - y) ** 2)\n",
    "mse_2 = np.mean((y_pred2 - y) ** 2)"
   ]
  },
  {
   "cell_type": "code",
   "execution_count": 10,
   "metadata": {
    "id": "D1-a3xsWXVqb",
    "outputId": "4736ac37-bd88-44de-d432-262eb75fc38a",
    "pycharm": {
     "name": "#%%\n"
    }
   },
   "outputs": [
    {
     "data": {
      "text/plain": [
       "(143.6, 151.35)"
      ]
     },
     "execution_count": 10,
     "metadata": {},
     "output_type": "execute_result"
    }
   ],
   "source": [
    "mse_1, mse_2"
   ]
  },
  {
   "cell_type": "markdown",
   "metadata": {
    "id": "ZhVoY7UoXVqb",
    "pycharm": {
     "name": "#%% md\n"
    }
   },
   "source": [
    "$MAE_1>MAE_2$ но $MSE_1<MSE_2$\n",
    "Выбор метрики:\n",
    " * $MSE$ - в случае, если есть выбросы, и они имеют значение при работе модели\n",
    " * $MAE$ - в случае, если выбросы не важны, модель должна хорошо работать на большинстве моделей"
   ]
  },
  {
   "cell_type": "markdown",
   "metadata": {
    "id": "gxuoXuIsXVqc"
   },
   "source": [
    "Аналитический метод нахождения вектора весов в модели линейной регрессии:\n",
    "$w=(X^{T}\\cdot X)^{-1}\\cdot X^{T}\\cdot Y$\n",
    "\n",
    "Реализация:"
   ]
  },
  {
   "cell_type": "code",
   "execution_count": 11,
   "metadata": {
    "id": "61Tl2Q6UXVqc",
    "outputId": "4a479b68-0686-4aa8-cef3-330ffcf0cc9e",
    "pycharm": {
     "name": "#%%\n"
    }
   },
   "outputs": [
    {
     "data": {
      "text/plain": [
       "array([47.23214286,  3.91071429])"
      ]
     },
     "execution_count": 11,
     "metadata": {},
     "output_type": "execute_result"
    }
   ],
   "source": [
    "W_0 = np.linalg.inv(X @ X.T) @ X @ y\n",
    "W_0\n",
    "# отличается от классического вида, поскольку у нас изначально массив\n",
    "# Х представляет собой транспонированную матрицу\n",
    "# для приведения к классическому виду необходимо изначально\n",
    "# задавать вектор признаков и вектор значений в иной размерности\n",
    "# код ниже"
   ]
  },
  {
   "cell_type": "code",
   "execution_count": 12,
   "metadata": {
    "id": "1wK9lIP3XVqc",
    "outputId": "414770e2-d956-4adb-b789-c7191ad5f840",
    "pycharm": {
     "name": "#%%\n"
    }
   },
   "outputs": [
    {
     "data": {
      "text/plain": [
       "array([[47.23214286],\n",
       "       [ 3.91071429]])"
      ]
     },
     "execution_count": 12,
     "metadata": {},
     "output_type": "execute_result"
    }
   ],
   "source": [
    "X1 = X.swapaxes(0, 1)\n",
    "y1 = y.reshape((len(y), -1))\n",
    "W1 = np.linalg.inv(X1.T @ X1) @ X1.T @ y1\n",
    "W1"
   ]
  },
  {
   "cell_type": "code",
   "execution_count": 13,
   "metadata": {
    "id": "g8q21eT8XVqc",
    "outputId": "56a518c0-150a-438a-f4b2-b75c9f5db03c",
    "pycharm": {
     "name": "#%%\n"
    }
   },
   "outputs": [
    {
     "data": {
      "text/plain": [
       "array([[ 10,  26],\n",
       "       [ 26, 146]])"
      ]
     },
     "execution_count": 13,
     "metadata": {},
     "output_type": "execute_result"
    }
   ],
   "source": [
    "# ковариационная матрица\n",
    "np.dot(X, X.T)\n",
    "#np.dot(X1.T,X1)"
   ]
  },
  {
   "cell_type": "code",
   "execution_count": 14,
   "metadata": {
    "id": "pci-lyqMXVqd",
    "outputId": "1442731c-ada5-497d-e4ce-8041e8843741",
    "pycharm": {
     "name": "#%%\n"
    }
   },
   "outputs": [
    {
     "data": {
      "image/png": "[encoded data removed]",
      "text/plain": [
       "<Figure size 432x288 with 1 Axes>"
      ]
     },
     "metadata": {
      "needs_background": "light"
     },
     "output_type": "display_data"
    }
   ],
   "source": [
    "plt.scatter(X[1], y)\n",
    "plt.plot(X[1], y_pred1, label='model1')\n",
    "plt.plot(X[1], 40 * np.ones(10) + X[1] * 7.5, label='model2')\n",
    "plt.plot(X[1], W_0[0] + W_0[1] * X[1], label='analytic_model')\n",
    "plt.legend(loc='best')\n",
    "plt.show()"
   ]
  },
  {
   "cell_type": "code",
   "execution_count": 15,
   "metadata": {
    "id": "Fpy_A70PXVqd",
    "pycharm": {
     "name": "#%%\n"
    }
   },
   "outputs": [],
   "source": [
    "y_pred3 = W_0[0] + W_0[1] * X[1]"
   ]
  },
  {
   "cell_type": "code",
   "execution_count": 16,
   "metadata": {
    "id": "Lrxvqe5cXVqd",
    "pycharm": {
     "name": "#%%\n"
    }
   },
   "outputs": [],
   "source": [
    "def calc_mae(y, y_pred):\n",
    "    err = np.mean(np.abs(y - y_pred))\n",
    "    return err"
   ]
  },
  {
   "cell_type": "code",
   "execution_count": 17,
   "metadata": {
    "id": "XceXTJkQXVqd",
    "pycharm": {
     "name": "#%%\n"
    }
   },
   "outputs": [],
   "source": [
    "def calc_mse(y, y_pred):\n",
    "    err = np.mean((y - y_pred) ** 2)\n",
    "    return err"
   ]
  },
  {
   "cell_type": "code",
   "execution_count": 18,
   "metadata": {
    "id": "b8c6_bzDXVqe",
    "outputId": "4e4eb4f8-985f-44ba-c12d-bd3fe02ee6a2",
    "pycharm": {
     "name": "#%%\n"
    }
   },
   "outputs": [
    {
     "data": {
      "text/plain": [
       "(10.4, 7.9, 6.182142857142856)"
      ]
     },
     "execution_count": 18,
     "metadata": {},
     "output_type": "execute_result"
    }
   ],
   "source": [
    "calc_mae(y, y_pred1), calc_mae(y, y_pred2), calc_mae(y, y_pred3)"
   ]
  },
  {
   "cell_type": "code",
   "execution_count": 19,
   "metadata": {
    "id": "Pyq9VVC7XVqe",
    "outputId": "8139c946-bef4-4653-c1b9-35fe0539a8a0",
    "pycharm": {
     "name": "#%%\n"
    }
   },
   "outputs": [
    {
     "data": {
      "text/plain": [
       "(143.6, 151.35, 45.93749999999999)"
      ]
     },
     "execution_count": 19,
     "metadata": {},
     "output_type": "execute_result"
    }
   ],
   "source": [
    "calc_mse(y, y_pred1), calc_mse(y, y_pred2), calc_mse(y, y_pred3)\n"
   ]
  },
  {
   "cell_type": "markdown",
   "metadata": {
    "id": "uQzcrSAAXVqe",
    "pycharm": {
     "name": "#%% md\n"
    }
   },
   "source": [
    "Аналитическая формула имеет недостатки использования при вычислении весов линейной\n",
    "модели в следствии того, что вычисление обратной матрицы при большом количестве признаков\n",
    "имеет высокую вычислительную сложность."
   ]
  },
  {
   "cell_type": "markdown",
   "metadata": {
    "id": "6CT91Az0XVqf"
   },
   "source": [
    "## <center> Практическое задание"
   ]
  },
  {
   "cell_type": "markdown",
   "metadata": {
    "id": "O-N7TROwXVqf"
   },
   "source": [
    "**1. Подберите скорость обучения($\\alpha$) и количество итераций:**"
   ]
  },
  {
   "cell_type": "code",
   "execution_count": 20,
   "metadata": {
    "id": "-_gC2qnpXVqf",
    "pycharm": {
     "name": "#%%\n"
    }
   },
   "outputs": [
    {
     "data": {
      "text/plain": [
       "(array([1. , 0.5]), 0.001)"
      ]
     },
     "execution_count": 20,
     "metadata": {},
     "output_type": "execute_result"
    }
   ],
   "source": [
    "n = X.shape[1]\n",
    "alpha = 1e-03\n",
    "\n",
    "W = np.array([1, 0.5])\n",
    "W, alpha"
   ]
  },
  {
   "cell_type": "code",
   "execution_count": 21,
   "metadata": {
    "id": "iS9f8iC5XVqg",
    "pycharm": {
     "name": "#%%\n"
    }
   },
   "outputs": [
    {
     "name": "stdout",
     "output_type": "stream",
     "text": [
      "0 [1.1102 0.84  ] 3173.15\n",
      "300 [14.98921624  9.8634316 ] 606.0048772266812\n",
      "600 [23.63334499  8.26841272] 345.9620646005472\n",
      "900 [29.95992301  7.10016181] 206.65877484533297\n",
      "1200 [34.59041507  6.24510603] 132.03487746741158\n",
      "1500 [37.97952317  5.61928129] 92.05932434403572\n",
      "1800 [40.46004868  5.16123328] 70.6446716165486\n",
      "2100 [42.2755726  4.8259829] 59.172976652790545\n",
      "2400 [43.60437454  4.58060946] 53.027661712772876\n",
      "2700 [44.5769393   4.40101793] 49.7356550972455\n",
      "3000 [45.28877016  4.26957292] 47.97214782992787\n",
      "3300 [45.80976699  4.17336687] 47.027448063161664\n",
      "3600 [46.19109031  4.1029526 ] 46.52137833162843\n",
      "3900 [46.47018504  4.05141563] 46.25027995499746\n",
      "4200 [46.67445754  4.01369514] 46.105054257366206\n",
      "4500 [46.82396684  3.98608711] 46.02725776328683\n",
      "4800 [46.93339434  3.96588049] 45.985582670037175\n",
      "5100 [47.01348553  3.95109103] 45.96325758433858\n",
      "5400 [47.07210515  3.94026647] 45.95129817615049\n",
      "5700 [47.1150095   3.93234386] 45.94489159629944\n",
      "6000 [47.14641166  3.92654521] 45.94145963171208\n",
      "6300 [47.16939525  3.92230111] 45.93962114983826\n",
      "6600 [47.1862172   3.91919481] 45.93863628664574\n",
      "6900 [47.19852936  3.91692128] 45.938108701619264\n",
      "7200 [47.20754077  3.91525725] 45.937826077634284\n",
      "7500 [47.21413632  3.91403933] 45.93767467774063\n",
      "7800 [47.21896367  3.91314792] 45.93759357376852\n",
      "8100 [47.22249687  3.91249549] 45.93755012688009\n",
      "8400 [47.22508285  3.91201797] 45.93752685265483\n",
      "8700 [47.22697556  3.91166847] 45.93751438479855\n",
      "9000 [47.22836086  3.91141266] 45.93750770584623\n",
      "9300 [47.22937477  3.91122543] 45.93750412797341\n",
      "9600 [47.23011686  3.9110884 ] 45.93750221132946\n",
      "9900 [47.23066001  3.9109881 ] 45.937501184595305\n",
      "10200 [47.23105754  3.9109147 ] 45.93750063458027\n",
      "10500 [47.23134851  3.91086097] 45.93750033994066\n",
      "10800 [47.23156146  3.91082164] 45.937500182104074\n",
      "11100 [47.23171733  3.91079286] 45.937500097552004\n",
      "11400 [47.23183141  3.9107718 ] 45.937500052257995\n",
      "11700 [47.2319149   3.91075638] 45.93750002799428\n",
      "12000 [47.23197602  3.91074509] 45.937500014996345\n",
      "12300 [47.23202074  3.91073683] 45.93750000803347\n",
      "12600 [47.23205348  3.91073079] 45.93750000430348\n",
      "12900 [47.23207744  3.91072637] 45.93750000230533\n",
      "13200 [47.23209498  3.91072313] 45.93750000123496\n",
      "13500 [47.23210781  3.91072076] 45.93750000066154\n",
      "13800 [47.23211721  3.91071902] 45.93750000035439\n",
      "14100 [47.23212409  3.91071775] 45.93750000018986\n",
      "14400 [47.23212912  3.91071682] 45.937500000101686\n",
      "14700 [47.2321328   3.91071614] 45.93750000005446\n",
      "15000 [47.2321355   3.91071564] 45.93750000002917\n",
      "15300 [47.23213747  3.91071528] 45.93750000001564\n",
      "15600 [47.23213891  3.91071501] 45.93750000000837\n",
      "15900 [47.23213997  3.91071482] 45.937500000004476\n",
      "16200 [47.23214075  3.91071468] 45.937500000002395\n",
      "16500 [47.23214131  3.91071457] 45.937500000001286\n",
      "16800 [47.23214173  3.91071449] 45.93750000000069\n",
      "17100 [47.23214203  3.91071444] 45.93750000000035\n",
      "17400 [47.23214225  3.9107144 ] 45.93750000000021\n",
      "17700 [47.23214241  3.91071437] 45.9375000000001\n",
      "18000 [47.23214253  3.91071435] 45.937500000000036\n",
      "18300 [47.23214262  3.91071433] 45.93750000000002\n"
     ]
    }
   ],
   "source": [
    "for i in range(20000):\n",
    "    y_pred = W @ X\n",
    "    err = calc_mse(y, y_pred)\n",
    "    for ii in range(W.shape[0]):\n",
    "        W[ii] -= alpha * (1 / n * 2 * np.sum(X[ii] * (y_pred - y)))\n",
    "    if i % 300 == 0:\n",
    "        print(i, W, err)\n",
    "    if err < 45.9375:\n",
    "        break"
   ]
  },
  {
   "cell_type": "markdown",
   "metadata": {},
   "source": [
    "*При alpha = 0.001 оптимальное количество итераций ~18300*"
   ]
  },
  {
   "cell_type": "markdown",
   "metadata": {
    "id": "QKhBG_ClXVqi"
   },
   "source": [
    "**2\\*. В этом коде мы избавляемся от итераций по весам, но тут есть ошибка, исправьте ее:**"
   ]
  },
  {
   "cell_type": "code",
   "execution_count": 22,
   "metadata": {
    "id": "xDHfdmYUXVqi",
    "pycharm": {
     "name": "#%%\n"
    },
    "scrolled": true
   },
   "outputs": [
    {
     "name": "stdout",
     "output_type": "stream",
     "text": [
      "0 [47.23214267  3.91071432] 45.93750000000002\n",
      "100 [47.23214267  3.91071432] 45.937500000000014\n",
      "200 [47.23214267  3.91071432] 45.93750000000002\n",
      "300 [47.23214267  3.91071432] 45.93749999999999\n",
      "400 [47.23214267  3.91071432] 45.937500000000014\n",
      "500 [47.23214267  3.91071432] 45.937500000000014\n",
      "600 [47.23214267  3.91071432] 45.937500000000014\n",
      "700 [47.23214267  3.91071432] 45.937500000000014\n",
      "800 [47.23214267  3.91071432] 45.937500000000014\n",
      "900 [47.23214267  3.91071432] 45.937500000000014\n"
     ]
    }
   ],
   "source": [
    "for i in range(1000):\n",
    "    y_pred = np.dot(W, X)\n",
    "    err = calc_mse(y, y_pred)\n",
    "    '''for ii in range(W.shape[0]):\n",
    "    W[ii] -= alpha * (1/n * 2 * np.sum(X[ii] * (y_pred - y)))'''\n",
    "    W -= (alpha * (1/n * 2 * np.sum(X * (y_pred - y))))\n",
    "    if i % 100 == 0:\n",
    "        print(i, W, err)\n"
   ]
  },
  {
   "cell_type": "markdown",
   "metadata": {},
   "source": [
    "##### Решение:"
   ]
  },
  {
   "cell_type": "code",
   "execution_count": 23,
   "metadata": {},
   "outputs": [
    {
     "name": "stdout",
     "output_type": "stream",
     "text": [
      "0 [47.23214267  3.91071432] 45.937500000000014\n",
      "100 [47.23214269  3.91071432] 45.937500000000014\n",
      "200 [47.23214271  3.91071431] 45.9375\n",
      "300 [47.23214272  3.91071431] 45.937500000000014\n",
      "400 [47.23214274  3.91071431] 45.937500000000014\n",
      "500 [47.23214275  3.91071431] 45.9375\n",
      "600 [47.23214276  3.9107143 ] 45.93750000000002\n",
      "700 [47.23214277  3.9107143 ] 45.9375\n",
      "800 [47.23214278  3.9107143 ] 45.937499999999986\n",
      "900 [47.23214279  3.9107143 ] 45.937500000000014\n"
     ]
    }
   ],
   "source": [
    "for i in range(1000):\n",
    "    y_pred = np.dot(W, X)\n",
    "    err = calc_mse(y, y_pred)\n",
    "    '''for ii in range(W.shape[0]):\n",
    "    W[ii] -= alpha * (1/n * 2 * np.sum(X[ii] * (y_pred - y)))'''\n",
    "    W -= alpha * (1/n * 2 * np.sum(X * (y_pred - y), axis=ii))\n",
    "    if i % 100 == 0:\n",
    "        print(i, W, err)\n"
   ]
  },
  {
   "cell_type": "code",
   "execution_count": null,
   "metadata": {},
   "outputs": [],
   "source": []
  }
 ],
 "metadata": {
  "colab": {
   "name": "HW_Lesson1.ipynb",
   "provenance": []
  },
  "kernelspec": {
   "display_name": "Python 3",
   "language": "python",
   "name": "python3"
  },
  "language_info": {
   "codemirror_mode": {
    "name": "ipython",
    "version": 3
   },
   "file_extension": ".py",
   "mimetype": "text/x-python",
   "name": "python",
   "nbconvert_exporter": "python",
   "pygments_lexer": "ipython3",
   "version": "3.8.3"
  }
 },
 "nbformat": 4,
 "nbformat_minor": 1
}
